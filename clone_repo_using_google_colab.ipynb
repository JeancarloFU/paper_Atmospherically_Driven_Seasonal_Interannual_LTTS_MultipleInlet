{
 "cells": [
  {
   "cell_type": "code",
   "execution_count": 1,
   "metadata": {
    "colab": {
     "base_uri": "https://localhost:8080/"
    },
    "executionInfo": {
     "elapsed": 1382,
     "status": "ok",
     "timestamp": 1663547044064,
     "user": {
      "displayName": "Jeancarlo Fajardo",
      "userId": "08493238869873532182"
     },
     "user_tz": -120
    },
    "id": "HRg_te22V2qU",
    "outputId": "2430a593-291f-4e36-dbab-bc19805093af"
   },
   "outputs": [
    {
     "name": "stdout",
     "output_type": "stream",
     "text": [
      "Drive already mounted at /content/gdrive/; to attempt to forcibly remount, call drive.mount(\"/content/gdrive/\", force_remount=True).\n"
     ]
    }
   ],
   "source": [
    "import os\n",
    "#create a temporal mount point (just for running this script)\n",
    "mount_point='/content/gdrive/'\n",
    "from google.colab import drive\n",
    "drive.mount(mount_point)"
   ]
  },
  {
   "cell_type": "code",
   "execution_count": 2,
   "metadata": {
    "colab": {
     "base_uri": "https://localhost:8080/"
    },
    "executionInfo": {
     "elapsed": 285,
     "status": "ok",
     "timestamp": 1663547044346,
     "user": {
      "displayName": "Jeancarlo Fajardo",
      "userId": "08493238869873532182"
     },
     "user_tz": -120
    },
    "id": "ErmcPpy4DYMT",
    "outputId": "bc597339-ad64-41b0-ac5b-1bc7bc5d03cd"
   },
   "outputs": [
    {
     "data": {
      "text/plain": [
       "['MyDrive',\n",
       " '.shortcut-targets-by-id',\n",
       " 'Othercomputers',\n",
       " '.file-revisions-by-id',\n",
       " '.Trash-0']"
      ]
     },
     "execution_count": 2,
     "metadata": {},
     "output_type": "execute_result"
    }
   ],
   "source": [
    "os.listdir(mount_point)  #check the name of My google Drive: "
   ]
  },
  {
   "cell_type": "code",
   "execution_count": 3,
   "metadata": {
    "executionInfo": {
     "elapsed": 10,
     "status": "ok",
     "timestamp": 1663547044346,
     "user": {
      "displayName": "Jeancarlo Fajardo",
      "userId": "08493238869873532182"
     },
     "user_tz": -120
    },
    "id": "Yn3AZFY5pnnq"
   },
   "outputs": [],
   "source": [
    "#this is the path where we will clone the repo (I have already created the dir \"colab_repos\", but you can select your own path)\n",
    "gdrive_path=\"MyDrive/colab_repos/\""
   ]
  },
  {
   "cell_type": "code",
   "execution_count": 4,
   "metadata": {
    "executionInfo": {
     "elapsed": 10,
     "status": "ok",
     "timestamp": 1663547044347,
     "user": {
      "displayName": "Jeancarlo Fajardo",
      "userId": "08493238869873532182"
     },
     "user_tz": -120
    },
    "id": "3KV_kBr1piMl"
   },
   "outputs": [],
   "source": [
    "#cd into the above path\n",
    "os.chdir(f\"{mount_point}{gdrive_path}\") #= cd /content/gdrive/MyDrive/colab_repos/"
   ]
  },
  {
   "cell_type": "code",
   "execution_count": 5,
   "metadata": {
    "colab": {
     "base_uri": "https://localhost:8080/"
    },
    "executionInfo": {
     "elapsed": 9,
     "status": "ok",
     "timestamp": 1663547044347,
     "user": {
      "displayName": "Jeancarlo Fajardo",
      "userId": "08493238869873532182"
     },
     "user_tz": -120
    },
    "id": "GndTOd2-pyJ1",
    "outputId": "7d5ef5ac-d6ac-4860-bf55-8caacdabb3f2"
   },
   "outputs": [
    {
     "name": "stdout",
     "output_type": "stream",
     "text": [
      "/content/gdrive/MyDrive/colab_repos\n"
     ]
    }
   ],
   "source": [
    "#check above\n",
    "!pwd"
   ]
  },
  {
   "cell_type": "code",
   "execution_count": 6,
   "metadata": {
    "colab": {
     "base_uri": "https://localhost:8080/"
    },
    "executionInfo": {
     "elapsed": 5800,
     "status": "ok",
     "timestamp": 1663547050143,
     "user": {
      "displayName": "Jeancarlo Fajardo",
      "userId": "08493238869873532182"
     },
     "user_tz": -120
    },
    "id": "ZrNc1ee0YQ_G",
    "outputId": "287410fe-2e68-4c8b-e00c-ed5702cc3d05"
   },
   "outputs": [
    {
     "name": "stdout",
     "output_type": "stream",
     "text": [
      "Cloning into 'paper_Winds_AtmPatterns_Seasonal_Interannual_TTS_MultipleInlet'...\n",
      "remote: Enumerating objects: 28, done.\u001b[K\n",
      "remote: Counting objects: 100% (28/28), done.\u001b[K\n",
      "remote: Compressing objects: 100% (26/26), done.\u001b[K\n",
      "remote: Total 28 (delta 1), reused 24 (delta 1), pack-reused 0\u001b[K\n",
      "Unpacking objects: 100% (28/28), done.\n"
     ]
    }
   ],
   "source": [
    "#clone the repo\n",
    "!git clone https://github.com/JeancarloFU/paper_Winds_AtmPatterns_Seasonal_Interannual_TTS_MultipleInlet.git"
   ]
  },
  {
   "cell_type": "code",
   "execution_count": 7,
   "metadata": {
    "colab": {
     "base_uri": "https://localhost:8080/"
    },
    "executionInfo": {
     "elapsed": 288,
     "status": "ok",
     "timestamp": 1663547050425,
     "user": {
      "displayName": "Jeancarlo Fajardo",
      "userId": "08493238869873532182"
     },
     "user_tz": -120
    },
    "id": "G57OospYYcBv",
    "outputId": "1db0310a-e028-471e-f80d-b4d0347c0f0d"
   },
   "outputs": [
    {
     "name": "stdout",
     "output_type": "stream",
     "text": [
      "clone_repo_using_google_colab.ipynb\n",
      "\u001b[0m\u001b[01;34mpaper_Winds_AtmPatterns_Seasonal_Interannual_TTS_MultipleInlet\u001b[0m/\n"
     ]
    }
   ],
   "source": [
    "#check the repo\n",
    "!ls "
   ]
  }
 ],
 "metadata": {
  "colab": {
   "authorship_tag": "ABX9TyMzns/xzyvfXuH5VPiaq5X1",
   "collapsed_sections": [],
   "provenance": [],
   "toc_visible": true
  },
  "kernelspec": {
   "display_name": "Python 3 (ipykernel)",
   "language": "python",
   "name": "python3"
  },
  "language_info": {
   "codemirror_mode": {
    "name": "ipython",
    "version": 3
   },
   "file_extension": ".py",
   "mimetype": "text/x-python",
   "name": "python",
   "nbconvert_exporter": "python",
   "pygments_lexer": "ipython3",
   "version": "3.8.12"
  }
 },
 "nbformat": 4,
 "nbformat_minor": 4
}
